{
 "cells": [
  {
   "cell_type": "markdown",
   "metadata": {},
   "source": [
    "#### hello\n",
    "This script should connect all the databases"
   ]
  },
  {
   "cell_type": "code",
   "execution_count": 1,
   "metadata": {},
   "outputs": [],
   "source": [
    "import os\n",
    "import pandas as pd\n",
    "import numpy as np"
   ]
  },
  {
   "cell_type": "code",
   "execution_count": 2,
   "metadata": {},
   "outputs": [],
   "source": [
    "def find_all_csv_files(path): \n",
    "    ''''\n",
    "    This function returns a list of all csv files in a directory\n",
    "    '''\n",
    "    \n",
    "    csv_files = []\n",
    "    for root, dirs, files in os.walk(path):\n",
    "        for file in files:\n",
    "            if file.endswith('.csv'):\n",
    "                csv_files.append(file)\n",
    "    return csv_files\n",
    "\n",
    "def parse_and_get_data(path):\n",
    "    '''\n",
    "    This function opens all csv files in a directory and returns a dictionary of dataframes\n",
    "    '''\n",
    "    \n",
    "    csv_files = find_all_csv_files(path)\n",
    "    result_dataframe = pd.DataFrame()\n",
    "\n",
    "    for file in csv_files:\n",
    "        datestring = file [:-4]\n",
    "        date = pd.to_datetime(datestring, format='%Y-%m-%d')\n",
    "        df = pd.read_csv(path + \"/\" + file)\n",
    "        activity_minutes = calculate_sum(df = df, column = \"Anzahl der Aktivitätsminuten\")\n",
    "        distance_meters = calculate_sum(df = df, column = \"Distanz (m)\")\n",
    "        walk_min = calculate_sum(df = df, column = \"Gehen – Dauer (ms)\") / 60000\n",
    "        run_min = calculate_sum(df = df, column = \"Laufen – Dauer (ms)\") /60000\n",
    "        hf = calculate_mean(df = df, column = \"Durchschnittliche Herzfrequenz (bpm)\")\n",
    "        new_row = pd.DataFrame({'date': [date]\n",
    "                    ,'activity_minutes': [activity_minutes]\n",
    "                    ,'distance_meters': [distance_meters]\n",
    "                    ,'walk_min': [walk_min]\n",
    "                    , 'hf_avg': [hf]\n",
    "                    ,'run_min': [run_min]})\n",
    "        result_dataframe = pd.concat([result_dataframe, new_row], ignore_index=True)\n",
    "    return result_dataframe\n",
    "\n",
    "\n",
    "def extract_date(df): \n",
    "    '''\n",
    "    This function extracts the date from a dataframe\n",
    "    '''\n",
    "    \n",
    "    date = df['date']\n",
    "    return date\n",
    "\n",
    "def calculate_sum(df, column):\n",
    "    '''\n",
    "    This function calculates the sum of a column in a dataframe\n",
    "    '''\n",
    "    try:\n",
    "        sum = df[column].sum()\n",
    "    except KeyError:\n",
    "        sum = 0\n",
    "        return sum\n",
    "    return sum\n",
    "\n",
    "def calculate_mean(df, column):\n",
    "    '''\n",
    "    This function calculates the mean of a column in a dataframe\n",
    "    '''\n",
    "    try:\n",
    "        mean = df[column].mean()\n",
    "    except KeyError:\n",
    "        mean = 0\n",
    "        return mean \n",
    "    return mean \n",
    "\n"
   ]
  },
  {
   "cell_type": "code",
   "execution_count": 3,
   "metadata": {},
   "outputs": [],
   "source": [
    "path = \"/Users/luisenriquekaiser/Documents/Fitness_Analysis/Data/Takeout/Google Fit/Tägliche Aktivitätswerte\"\n",
    "csv_files = find_all_csv_files(path = path)\n",
    "summary_stats = parse_and_get_data(path = path)\n"
   ]
  },
  {
   "cell_type": "code",
   "execution_count": null,
   "metadata": {},
   "outputs": [],
   "source": [
    "for dataframe in dataframes:\n",
    "    print(dataframe)\n",
    "    print(dataframes[dataframe].head())\n",
    "    print(\"\\n\")"
   ]
  }
 ],
 "metadata": {
  "kernelspec": {
   "display_name": "epp_final_project_sbp",
   "language": "python",
   "name": "python3"
  },
  "language_info": {
   "codemirror_mode": {
    "name": "ipython",
    "version": 3
   },
   "file_extension": ".py",
   "mimetype": "text/x-python",
   "name": "python",
   "nbconvert_exporter": "python",
   "pygments_lexer": "ipython3",
   "version": "3.11.1"
  }
 },
 "nbformat": 4,
 "nbformat_minor": 2
}
