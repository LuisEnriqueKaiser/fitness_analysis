{
 "cells": [
  {
   "cell_type": "markdown",
   "metadata": {},
   "source": [
    "title: Fitness Analysis Dashboard\n",
    "description: A dashboard to visualize and analyze fitness data.\n",
    "show_code: False  # Hide code by default"
   ]
  },
  {
   "cell_type": "code",
   "execution_count": 4,
   "metadata": {},
   "outputs": [
    {
     "ename": "SyntaxError",
     "evalue": "invalid syntax (3352062297.py, line 1)",
     "output_type": "error",
     "traceback": [
      "\u001b[0;36m  Cell \u001b[0;32mIn[4], line 1\u001b[0;36m\u001b[0m\n\u001b[0;31m    title: Random Data Visualization Dashboard\u001b[0m\n\u001b[0m                  ^\u001b[0m\n\u001b[0;31mSyntaxError\u001b[0m\u001b[0;31m:\u001b[0m invalid syntax\n"
     ]
    }
   ],
   "source": [
    "title: Random Data Visualization Dashboard\n",
    "description: A simple dashboard to visualize random data based on user input.\n",
    "show_code: False\n",
    "import pandas as pd\n",
    "import matplotlib.pyplot as plt\n",
    "import ipywidgets as widgets\n",
    "# Widget to select the number of data points\n",
    "num_points = widgets.IntSlider(\n",
    "    value=100,\n",
    "    min=10,\n",
    "    max=500,\n",
    "    step=10,\n",
    "    description=\"Number of Points\",\n",
    ")\n",
    "\n",
    "# Widget to choose the type of chart\n",
    "chart_type = widgets.Dropdown(\n",
    "    options=[\"Line\", \"Scatter\", \"Bar\"],\n",
    "    value=\"Line\",\n",
    "    description=\"Chart Type\",\n",
    ")\n",
    "\n",
    "# Display widgets\n",
    "display(num_points, chart_type)\n",
    "\n",
    "# Generate random data\n",
    "np.random.seed(0)\n",
    "data = pd.DataFrame({\n",
    "    \"X\": np.linspace(0, 10, num_points.value),\n",
    "    \"Y\": np.random.normal(loc=0, scale=1, size=num_points.value)\n",
    "})\n",
    "\n",
    "# Plot based on chart type selection\n",
    "plt.figure(figsize=(10, 6))\n",
    "\n",
    "if chart_type.value == \"Line\":\n",
    "    plt.plot(data[\"X\"], data[\"Y\"], label=\"Line\")\n",
    "elif chart_type.value == \"Scatter\":\n",
    "    plt.scatter(data[\"X\"], data[\"Y\"], label=\"Scatter\")\n",
    "elif chart_type.value == \"Bar\":\n",
    "    plt.bar(data[\"X\"], data[\"Y\"], width=0.1, label=\"Bar\")\n",
    "\n",
    "plt.xlabel(\"X Axis\")\n",
    "plt.ylabel(\"Y Axis\")\n",
    "plt.title(f\"{chart_type.value} Chart of Random Data\")\n",
    "plt.legend()\n",
    "plt.show()"
   ]
  },
  {
   "cell_type": "code",
   "execution_count": null,
   "metadata": {},
   "outputs": [],
   "source": []
  }
 ],
 "metadata": {
  "kernelspec": {
   "display_name": "epp_final_project_sbp",
   "language": "python",
   "name": "python3"
  },
  "language_info": {
   "codemirror_mode": {
    "name": "ipython",
    "version": 3
   },
   "file_extension": ".py",
   "mimetype": "text/x-python",
   "name": "python",
   "nbconvert_exporter": "python",
   "pygments_lexer": "ipython3",
   "version": "3.11.1"
  }
 },
 "nbformat": 4,
 "nbformat_minor": 2
}
